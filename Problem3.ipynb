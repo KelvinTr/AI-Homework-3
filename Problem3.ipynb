{
 "cells": [
  {
   "cell_type": "code",
   "execution_count": 1,
   "metadata": {},
   "outputs": [],
   "source": [
    "from tensorflow.keras.datasets import cifar10\n",
    "import numpy as np\n",
    "\n",
    "(X_train, y_train), (X_test, y_test) = cifar10.load_data()\n",
    "#X_train = np.expand_dims(X_train, 3)\n",
    "#X_test = np.expand_dims(X_test, 3)\n",
    "\n"
   ]
  },
  {
   "cell_type": "code",
   "execution_count": 2,
   "metadata": {},
   "outputs": [
    {
     "name": "stdout",
     "output_type": "stream",
     "text": [
      "(50000, 32, 32, 3)\n",
      "(10000, 32, 32, 3)\n",
      "(50000, 1)\n",
      "(10000, 1)\n"
     ]
    }
   ],
   "source": [
    "print(X_train.shape)\n",
    "print(X_test.shape)\n",
    "print(y_train.shape)\n",
    "print(y_test.shape)"
   ]
  },
  {
   "cell_type": "code",
   "execution_count": 3,
   "metadata": {},
   "outputs": [],
   "source": [
    "import tensorflow as tf\n",
    "from tensorflow.keras.models import Sequential\n",
    "from tensorflow.keras.layers import Conv2D, MaxPooling2D, Flatten, Dense\n",
    "\n",
    "model = Sequential()\n",
    "model.add(Conv2D(32, (3,3), activation='relu', input_shape=X_train[0].shape))\n",
    "model.add(MaxPooling2D())\n",
    "model.add(Conv2D(32, (3,3), activation='relu'))\n",
    "model.add(MaxPooling2D())\n",
    "model.add(Flatten())\n",
    "model.add(Dense(10, activation='softmax'))"
   ]
  },
  {
   "cell_type": "code",
   "execution_count": 4,
   "metadata": {},
   "outputs": [
    {
     "name": "stdout",
     "output_type": "stream",
     "text": [
      "Epoch 1/15\n",
      "1563/1563 - 17s - loss: 2.5886 - accuracy: 0.2191 - val_loss: 1.9559 - val_accuracy: 0.3090 - 17s/epoch - 11ms/step\n",
      "Epoch 2/15\n",
      "1563/1563 - 10s - loss: 1.8127 - accuracy: 0.3572 - val_loss: 1.6667 - val_accuracy: 0.3999 - 10s/epoch - 6ms/step\n",
      "Epoch 3/15\n",
      "1563/1563 - 9s - loss: 1.5812 - accuracy: 0.4335 - val_loss: 1.5590 - val_accuracy: 0.4332 - 9s/epoch - 6ms/step\n",
      "Epoch 4/15\n",
      "1563/1563 - 8s - loss: 1.4763 - accuracy: 0.4765 - val_loss: 1.4544 - val_accuracy: 0.4780 - 8s/epoch - 5ms/step\n",
      "Epoch 5/15\n",
      "1563/1563 - 8s - loss: 1.3808 - accuracy: 0.5145 - val_loss: 1.3652 - val_accuracy: 0.5135 - 8s/epoch - 5ms/step\n",
      "Epoch 6/15\n",
      "1563/1563 - 11s - loss: 1.3076 - accuracy: 0.5429 - val_loss: 1.3225 - val_accuracy: 0.5388 - 11s/epoch - 7ms/step\n",
      "Epoch 7/15\n",
      "1563/1563 - 9s - loss: 1.2574 - accuracy: 0.5600 - val_loss: 1.2743 - val_accuracy: 0.5604 - 9s/epoch - 6ms/step\n",
      "Epoch 8/15\n",
      "1563/1563 - 9s - loss: 1.2214 - accuracy: 0.5767 - val_loss: 1.2282 - val_accuracy: 0.5768 - 9s/epoch - 6ms/step\n",
      "Epoch 9/15\n",
      "1563/1563 - 9s - loss: 1.1936 - accuracy: 0.5861 - val_loss: 1.2463 - val_accuracy: 0.5753 - 9s/epoch - 6ms/step\n",
      "Epoch 10/15\n",
      "1563/1563 - 11s - loss: 1.1739 - accuracy: 0.5916 - val_loss: 1.2283 - val_accuracy: 0.5769 - 11s/epoch - 7ms/step\n",
      "Epoch 11/15\n"
     ]
    }
   ],
   "source": [
    "model.compile(optimizer=\"Adam\", loss='sparse_categorical_crossentropy', metrics=['accuracy'])\n",
    "history = model.fit(X_train, y_train, batch_size=32, epochs=15, verbose=2, validation_data=(X_test, y_test))"
   ]
  },
  {
   "cell_type": "code",
   "execution_count": null,
   "metadata": {},
   "outputs": [
    {
     "ename": "",
     "evalue": "",
     "output_type": "error",
     "traceback": [
      "\u001b[1;31mCanceled future for execute_request message before replies were done"
     ]
    },
    {
     "ename": "",
     "evalue": "",
     "output_type": "error",
     "traceback": [
      "\u001b[1;31mThe Kernel crashed while executing code in the the current cell or a previous cell. Please review the code in the cell(s) to identify a possible cause of the failure. Click <a href='https://aka.ms/vscodeJupyterKernelCrash'>here</a> for more info. View Jupyter <a href='command:jupyter.viewOutput'>log</a> for further details."
     ]
    }
   ],
   "source": [
    "import matplotlib.pyplot as plt\n",
    "\n",
    "figures, axes = plt.subplots(1,2,figsize=(10,5))\n",
    "\n",
    "axes[0].plot(history.history['accuracy'])\n",
    "axes[0].plot(history.history['val_accuracy'])\n",
    "axes[0].set_title('Model Accuracy vs. Iterations')\n",
    "axes[0].set_ylabel('Accuracy')\n",
    "axes[0].set_xlabel('Iterations')\n",
    "axes[0].legend(['Train', 'Validation'], loc='lower right')\n",
    "\n",
    "axes[1].plot(history.history['loss'])\n",
    "axes[1].plot(history.history['val_loss'])\n",
    "axes[1].set_title('Model Loss vs. Iterations')\n",
    "axes[1].set_ylabel('Loss')\n",
    "axes[1].set_xlabel('Iterations')\n",
    "axes[1].legend(['Train', 'Validation'], loc='upper right')\n",
    "\n",
    "plt.show()"
   ]
  }
 ],
 "metadata": {
  "kernelspec": {
   "display_name": "base",
   "language": "python",
   "name": "python3"
  },
  "language_info": {
   "codemirror_mode": {
    "name": "ipython",
    "version": 3
   },
   "file_extension": ".py",
   "mimetype": "text/x-python",
   "name": "python",
   "nbconvert_exporter": "python",
   "pygments_lexer": "ipython3",
   "version": "3.10.9"
  },
  "orig_nbformat": 4
 },
 "nbformat": 4,
 "nbformat_minor": 2
}
